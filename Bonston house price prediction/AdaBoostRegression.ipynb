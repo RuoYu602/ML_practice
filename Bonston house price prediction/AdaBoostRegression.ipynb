{
 "cells": [
  {
   "cell_type": "code",
   "execution_count": 27,
   "id": "0eb0621a",
   "metadata": {},
   "outputs": [],
   "source": [
    "from sklearn.datasets import load_boston\n",
    "\n",
    "boston = load_boston()\n",
    "X = boston.data # 特征集\n",
    "y = boston.target # 目标集"
   ]
  },
  {
   "cell_type": "code",
   "execution_count": 28,
   "id": "c484b9ed",
   "metadata": {},
   "outputs": [],
   "source": [
    "from sklearn.model_selection import train_test_split\n",
    "X_train, X_test, y_train, y_test = train_test_split(features, prices, test_size=0.25, random_state=1)\n"
   ]
  },
  {
   "cell_type": "code",
   "execution_count": 29,
   "id": "12db2047",
   "metadata": {},
   "outputs": [
    {
     "data": {
      "text/plain": [
       "AdaBoostRegressor()"
      ]
     },
     "execution_count": 29,
     "metadata": {},
     "output_type": "execute_result"
    }
   ],
   "source": [
    "from sklearn.ensemble import AdaBoostRegressor\n",
    "regressor = AdaBoostRegressor()  # 均采用默认参数\n",
    "regressor.fit(X_train, y_train)  # 拟合模型\n"
   ]
  },
  {
   "cell_type": "code",
   "execution_count": 30,
   "id": "2d15696c",
   "metadata": {},
   "outputs": [],
   "source": [
    "y_predict = regressor.predict(X_test)\n"
   ]
  },
  {
   "cell_type": "code",
   "execution_count": 31,
   "id": "aa7ae52d",
   "metadata": {},
   "outputs": [
    {
     "name": "stdout",
     "output_type": "stream",
     "text": [
      "Acc: 0.8582757737109574\n",
      "R^2: 0.8582757737109574\n",
      "MSE: 14.038985522231917\n",
      "MAE: 2.960695078727264\n"
     ]
    }
   ],
   "source": [
    "from sklearn.metrics import r2_score, mean_absolute_error, mean_squared_error\n",
    "\n",
    "#mse = mean_squared_error(y_test, y_pred)\n",
    "#print (\"AdaBoost 均方误差 = \", round(mse, 2))# 18.57\n",
    "print('Acc:', regressor.score(X_test, y_test))\n",
    "print('R^2:', r2_score(y_test, y_predict))\n",
    "print('MSE:', mean_squared_error(y_test, y_predict))\n",
    "print('MAE:', mean_absolute_error(y_test,  y_predict))"
   ]
  }
 ],
 "metadata": {
  "kernelspec": {
   "display_name": "Python 3",
   "language": "python",
   "name": "python3"
  },
  "language_info": {
   "codemirror_mode": {
    "name": "ipython",
    "version": 3
   },
   "file_extension": ".py",
   "mimetype": "text/x-python",
   "name": "python",
   "nbconvert_exporter": "python",
   "pygments_lexer": "ipython3",
   "version": "3.8.8"
  }
 },
 "nbformat": 4,
 "nbformat_minor": 5
}
