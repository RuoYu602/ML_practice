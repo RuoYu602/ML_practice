{
 "cells": [
  {
   "cell_type": "code",
   "execution_count": 33,
   "id": "8366ed4c",
   "metadata": {},
   "outputs": [],
   "source": [
    "from sklearn.tree import DecisionTreeRegressor\n",
    "from sklearn.datasets import load_boston\n",
    "from sklearn.model_selection import train_test_split\n",
    "from sklearn.metrics import r2_score, mean_absolute_error, mean_squared_error"
   ]
  },
  {
   "cell_type": "code",
   "execution_count": 34,
   "id": "fb93d378",
   "metadata": {},
   "outputs": [],
   "source": [
    "# 准备数据集\n",
    "boston = load_boston()\n",
    "\n",
    "# 获取特征集和房价\n",
    "X = boston.data\n",
    "y = boston.target\n"
   ]
  },
  {
   "cell_type": "code",
   "execution_count": 35,
   "id": "1080f2f1",
   "metadata": {},
   "outputs": [
    {
     "data": {
      "text/plain": [
       "DecisionTreeRegressor()"
      ]
     },
     "execution_count": 35,
     "metadata": {},
     "output_type": "execute_result"
    }
   ],
   "source": [
    "# 随机抽取25% 的数据作为测试集，其余为训练集\n",
    "#train_features, test_features, train_price, test_price = train_test_split(features, prices, test_size=0.25)\n",
    "X_train,X_test,y_train,y_test = train_test_split(X,y,test_size=0.25)\n",
    "# 创建CART回归树\n",
    "dtr = DecisionTreeRegressor()\n",
    "\n",
    "# 拟合构造CART回归树\n",
    "dtr.fit(X_train, y_train)\n"
   ]
  },
  {
   "cell_type": "code",
   "execution_count": 36,
   "id": "4d1806d9",
   "metadata": {},
   "outputs": [],
   "source": [
    "# 预测测试集中的房价\n",
    "predict_price = dtr.predict(X_test)"
   ]
  },
  {
   "cell_type": "code",
   "execution_count": 37,
   "id": "ac85d1de",
   "metadata": {
    "scrolled": false
   },
   "outputs": [
    {
     "name": "stdout",
     "output_type": "stream",
     "text": [
      "Acc: 0.855033835405889\n",
      "R^2: 0.855033835405889\n",
      "MSE: 11.509606299212601\n",
      "MAE: 2.6157480314960635\n"
     ]
    }
   ],
   "source": [
    "# 测试集的结果评价\n",
    "print('Acc:', dtr.score(X_test, y_test))\n",
    "print('R^2:', r2_score(y_test, predict_price))\n",
    "print('MSE:', mean_squared_error(y_test, predict_price))\n",
    "print('MAE:', mean_absolute_error(y_test, predict_price))"
   ]
  }
 ],
 "metadata": {
  "kernelspec": {
   "display_name": "Python 3",
   "language": "python",
   "name": "python3"
  },
  "language_info": {
   "codemirror_mode": {
    "name": "ipython",
    "version": 3
   },
   "file_extension": ".py",
   "mimetype": "text/x-python",
   "name": "python",
   "nbconvert_exporter": "python",
   "pygments_lexer": "ipython3",
   "version": "3.8.8"
  }
 },
 "nbformat": 4,
 "nbformat_minor": 5
}
