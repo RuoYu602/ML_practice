{
 "cells": [
  {
   "cell_type": "code",
   "execution_count": 1,
   "id": "3393ea9a",
   "metadata": {},
   "outputs": [],
   "source": [
    "from sklearn.datasets import load_boston"
   ]
  },
  {
   "cell_type": "code",
   "execution_count": 6,
   "id": "1a67ae92",
   "metadata": {},
   "outputs": [],
   "source": [
    "Boston=load_boston()\n",
    "X = Boston.data\n",
    "y = Boston.target"
   ]
  },
  {
   "cell_type": "code",
   "execution_count": 3,
   "id": "a96df444",
   "metadata": {},
   "outputs": [
    {
     "data": {
      "text/plain": [
       "(506, 13)"
      ]
     },
     "execution_count": 3,
     "metadata": {},
     "output_type": "execute_result"
    }
   ],
   "source": [
    "X.shape"
   ]
  },
  {
   "cell_type": "code",
   "execution_count": 7,
   "id": "a342c318",
   "metadata": {},
   "outputs": [
    {
     "data": {
      "text/plain": [
       "(506,)"
      ]
     },
     "execution_count": 7,
     "metadata": {},
     "output_type": "execute_result"
    }
   ],
   "source": [
    "y.shape"
   ]
  },
  {
   "cell_type": "code",
   "execution_count": 8,
   "id": "b60356c3",
   "metadata": {},
   "outputs": [],
   "source": [
    "from sklearn.model_selection import train_test_split\n",
    "from sklearn.linear_model import LinearRegression\n",
    "X_train,X_test,y_train,y_test = train_test_split(X,y,test_size=0.25,random_state=888)"
   ]
  },
  {
   "cell_type": "code",
   "execution_count": 9,
   "id": "022964a1",
   "metadata": {},
   "outputs": [
    {
     "data": {
      "text/plain": [
       "(379, 13)"
      ]
     },
     "execution_count": 9,
     "metadata": {},
     "output_type": "execute_result"
    }
   ],
   "source": [
    "X_train.shape"
   ]
  },
  {
   "cell_type": "code",
   "execution_count": 10,
   "id": "916a570f",
   "metadata": {},
   "outputs": [
    {
     "data": {
      "text/plain": [
       "(379,)"
      ]
     },
     "execution_count": 10,
     "metadata": {},
     "output_type": "execute_result"
    }
   ],
   "source": [
    "y_train.shape"
   ]
  },
  {
   "cell_type": "code",
   "execution_count": 12,
   "id": "cae0cb12",
   "metadata": {},
   "outputs": [],
   "source": [
    "lin_reg=LinearRegression()"
   ]
  },
  {
   "cell_type": "code",
   "execution_count": 13,
   "id": "6b938049",
   "metadata": {},
   "outputs": [
    {
     "data": {
      "text/plain": [
       "LinearRegression()"
      ]
     },
     "execution_count": 13,
     "metadata": {},
     "output_type": "execute_result"
    }
   ],
   "source": [
    "lin_reg.fit(X_train,y_train)"
   ]
  },
  {
   "cell_type": "code",
   "execution_count": 16,
   "id": "a69d74d3",
   "metadata": {},
   "outputs": [
    {
     "data": {
      "text/plain": [
       "0.7187410837627415"
      ]
     },
     "execution_count": 16,
     "metadata": {},
     "output_type": "execute_result"
    }
   ],
   "source": [
    "lin_reg.score(X_test,y_test)"
   ]
  },
  {
   "cell_type": "code",
   "execution_count": 18,
   "id": "b9e864e3",
   "metadata": {},
   "outputs": [
    {
     "data": {
      "text/plain": [
       "array([-1.17457334e-01,  3.46682521e-02,  3.57639501e-02,  2.28817491e+00,\n",
       "       -1.61557461e+01,  3.76443714e+00,  1.40324210e-02, -1.27477552e+00,\n",
       "        3.45455179e-01, -1.48933591e-02, -9.55841952e-01,  9.07465670e-03,\n",
       "       -6.14168545e-01])"
      ]
     },
     "execution_count": 18,
     "metadata": {},
     "output_type": "execute_result"
    }
   ],
   "source": [
    "lin_reg.coef_"
   ]
  },
  {
   "cell_type": "code",
   "execution_count": 21,
   "id": "f9f6d81f",
   "metadata": {},
   "outputs": [
    {
     "data": {
      "text/plain": [
       "[<matplotlib.lines.Line2D at 0x29bfe1f2d30>]"
      ]
     },
     "execution_count": 21,
     "metadata": {},
     "output_type": "execute_result"
    },
    {
     "data": {
      "image/png": "[encoded data removed]",
      "text/plain": [
       "<Figure size 432x288 with 1 Axes>"
      ]
     },
     "metadata": {
      "needs_background": "light"
     },
     "output_type": "display_data"
    }
   ],
   "source": [
    "import matplotlib.pyplot as plt\n",
    "%matplotlib inline\n",
    "plt.plot(lin_reg.coef_)"
   ]
  },
  {
   "cell_type": "code",
   "execution_count": 22,
   "id": "f21f4d74",
   "metadata": {},
   "outputs": [],
   "source": [
    "import numpy as np"
   ]
  },
  {
   "cell_type": "code",
   "execution_count": 34,
   "id": "f67ddb81",
   "metadata": {},
   "outputs": [
    {
     "data": {
      "text/plain": [
       "array([ 2.19982869e+01,  3.57074498e+01,  2.05852914e+01,  2.00027814e+01,\n",
       "        2.00597376e+01,  2.13242941e+01,  3.08552921e+01,  2.91112629e+01,\n",
       "        2.45762358e+01,  1.23176519e+01,  2.18490108e+01,  2.60728606e+01,\n",
       "        2.03070788e+01,  2.31768519e+01,  2.20899128e+01,  1.26200796e+01,\n",
       "        1.70921521e+01,  2.21080572e+01,  2.74404733e+01,  2.81317384e+01,\n",
       "        2.45032047e+01,  3.42578007e+01,  2.38910198e+01,  2.70249693e+01,\n",
       "        3.33060633e+01,  1.31298652e+01,  2.07201525e+01,  1.71113329e+01,\n",
       "        2.51293084e+01,  2.62269340e+01,  2.56317446e+01,  2.48334633e+01,\n",
       "        1.75335540e+01,  1.26216628e+01,  2.23684792e+01,  3.56097313e+01,\n",
       "        1.60154787e+01,  1.97543752e+01,  2.31840637e+01,  2.00721981e+01,\n",
       "        3.27518617e+01,  2.56187885e+01,  3.07772602e+01,  2.38224581e+01,\n",
       "        2.14071416e+01,  1.23916081e+01,  3.32256668e+01,  2.02435947e+01,\n",
       "       -6.34987979e+00,  2.75220853e+01,  2.51730231e+01,  1.38342955e+01,\n",
       "        1.37655504e+01,  2.73535764e+01,  1.39872178e+01,  2.55006038e+01,\n",
       "        1.76769268e+01,  1.91481578e+01,  3.58484246e+01,  2.63267303e+01,\n",
       "        3.31589437e+01,  2.46441602e+01,  3.19198017e+01,  2.83304087e+01,\n",
       "        3.12638395e+01,  2.46547931e+01,  2.35963587e+01,  3.05044066e+01,\n",
       "        3.20381956e+01,  2.09922152e+01,  2.50526342e+01,  1.97885072e+01,\n",
       "        3.70786840e+01,  4.15037279e+01,  2.29694393e+01,  1.83657864e+01,\n",
       "        1.60311238e+01,  3.63952722e+01,  1.41649172e+01,  4.35435330e+00,\n",
       "        1.08380033e+01,  3.04460564e+01,  1.71229640e+00,  2.64776815e+01,\n",
       "        3.04402087e+01,  2.25684247e+01, -1.32267357e+00,  1.24284275e+01,\n",
       "        3.41637985e+01,  1.52456853e+01,  1.68386326e+01,  4.27195522e+01,\n",
       "        2.39840732e+01,  2.24437309e+01,  2.89871086e+01,  2.08102215e+01,\n",
       "        1.25042138e+01,  1.66046944e+01,  2.68554499e+01,  2.46725561e+01,\n",
       "        2.50768812e+01,  4.38065476e+01, -2.87010765e-02,  2.43449276e+01,\n",
       "        1.32406209e+01,  1.99723139e+01,  7.58536365e+00,  1.48419815e+01,\n",
       "        3.15096848e+01,  2.27222079e+01,  1.83749448e+01,  3.29126062e+01,\n",
       "        2.58903939e+01,  2.56305099e+01,  3.25377381e+01,  2.74826734e+01,\n",
       "        3.18661422e+01,  2.47626291e+01,  1.09179723e+01,  2.04120829e+01,\n",
       "        1.06715435e+01,  3.40108983e+01,  2.72072870e+01,  1.42709878e+01,\n",
       "        2.75910950e+01,  2.47440889e+01,  2.27176556e+01])"
      ]
     },
     "execution_count": 34,
     "metadata": {},
     "output_type": "execute_result"
    }
   ],
   "source": [
    "y_predict= lin_reg.predict(X_test)\n",
    "y_predict"
   ]
  },
  {
   "cell_type": "code",
   "execution_count": 24,
   "id": "a1b89867",
   "metadata": {},
   "outputs": [
    {
     "data": {
      "text/plain": [
       "array([22.4, 32.4, 21.7, 24.5, 16.8, 21.1, 29.4, 28.7, 21.5, 13.6, 21.4,\n",
       "       24.8, 16.8, 19.4, 21.7, 17.2, 17.1, 18.7, 22.3, 25. , 24.4, 34.6,\n",
       "       20.1, 22.3, 26.7, 15.6, 19.5, 14.3, 22.7, 21.6, 25. , 24.7, 17.8,\n",
       "       12.7, 22.7, 46.7, 20.2, 27.1, 25. , 19.9, 32. , 23.2, 32.2, 19.2,\n",
       "       21. , 13.4, 31.6, 16.7,  7. , 24.5, 24.2, 11.5, 10.9, 22. , 15.7,\n",
       "       25.3, 14.9, 15. , 33.4, 28.7, 50. , 25. , 29.9, 26.6, 28.7, 20.5,\n",
       "       23. , 37. , 30.3, 16.2, 22.2, 19.9, 36. , 48.5, 26.4, 19.8, 17.8,\n",
       "       38.7, 11.7, 13.8, 15.2, 30.1,  8.1, 30.1, 24. , 17.8, 13.8,  7.5,\n",
       "       41.3, 20.1, 13.9, 50. , 20.3, 22.6, 25. , 20.5, 12.8, 19.5, 22. ,\n",
       "       19.1, 24.6, 50. , 17.9, 22.2, 19.7, 18.2, 14.6, 14.8, 31.5, 19.8,\n",
       "       18.7, 36.4, 25. , 29.6, 33.2, 23.9, 29. , 24.3, 10.8, 19.3, 12. ,\n",
       "       32. , 22.1, 13.1, 23.7, 21.7, 17.4])"
      ]
     },
     "execution_count": 24,
     "metadata": {},
     "output_type": "execute_result"
    }
   ],
   "source": [
    "y_test"
   ]
  },
  {
   "cell_type": "code",
   "execution_count": 25,
   "id": "3ba16491",
   "metadata": {},
   "outputs": [
    {
     "data": {
      "text/plain": [
       "(127,)"
      ]
     },
     "execution_count": 25,
     "metadata": {},
     "output_type": "execute_result"
    }
   ],
   "source": [
    "y_test.shape"
   ]
  },
  {
   "cell_type": "code",
   "execution_count": 32,
   "id": "97dd932c",
   "metadata": {},
   "outputs": [
    {
     "data": {
      "text/plain": [
       "20.27600531885562"
      ]
     },
     "execution_count": 32,
     "metadata": {},
     "output_type": "execute_result"
    }
   ],
   "source": [
    "y_preditc=lin_reg.predict(X_test) #reg是训练好的模型\n",
    "mse=np.sum((y_preditc-y_test)**2)/len(y_test) #跟数学公式一样的\n",
    "mse"
   ]
  },
  {
   "cell_type": "code",
   "execution_count": 33,
   "id": "420ded5e",
   "metadata": {},
   "outputs": [
    {
     "data": {
      "text/plain": [
       "4.502888552790933"
      ]
     },
     "execution_count": 33,
     "metadata": {},
     "output_type": "execute_result"
    }
   ],
   "source": [
    "rmse=mse**0.5\n",
    "rmse"
   ]
  },
  {
   "cell_type": "code",
   "execution_count": 37,
   "id": "42c88e01",
   "metadata": {},
   "outputs": [
    {
     "data": {
      "text/plain": [
       "0.7187410837627415"
      ]
     },
     "execution_count": 37,
     "metadata": {},
     "output_type": "execute_result"
    }
   ],
   "source": [
    "from sklearn.metrics import r2_score\n",
    "r2_score(y_test,y_predict)"
   ]
  },
  {
   "cell_type": "code",
   "execution_count": null,
   "id": "2ec850c9",
   "metadata": {},
   "outputs": [],
   "source": []
  }
 ],
 "metadata": {
  "kernelspec": {
   "display_name": "Python 3",
   "language": "python",
   "name": "python3"
  },
  "language_info": {
   "codemirror_mode": {
    "name": "ipython",
    "version": 3
   },
   "file_extension": ".py",
   "mimetype": "text/x-python",
   "name": "python",
   "nbconvert_exporter": "python",
   "pygments_lexer": "ipython3",
   "version": "3.8.8"
  }
 },
 "nbformat": 4,
 "nbformat_minor": 5
}
